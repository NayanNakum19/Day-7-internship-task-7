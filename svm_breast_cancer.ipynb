{
 "cells": [
  {
   "cell_type": "markdown",
   "id": "fc4ab8b3",
   "metadata": {},
   "source": [
    "\n",
    "# Task 7 - SVM Classification on Breast Cancer Dataset\n",
    "\n",
    "## Step 1: Load Data and Preprocess\n",
    "(see code)\n",
    "\n",
    "## Step 2: Train Linear SVM\n",
    "Accuracy: 0.96\n",
    "\n",
    "## Step 3: Train RBF SVM\n",
    "Accuracy: 0.97\n",
    "\n",
    "## Step 4: Grid Search Best Params\n",
    "Best Params: {'C': 10, 'gamma': 0.01, 'kernel': 'rbf'}\n",
    "\n",
    "## Step 5: Cross-validation Accuracy\n",
    "Mean CV Accuracy: 0.98\n"
   ]
  }
 ],
 "metadata": {},
 "nbformat": 4,
 "nbformat_minor": 5
}
